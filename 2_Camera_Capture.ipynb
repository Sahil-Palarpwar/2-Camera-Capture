{
 "cells": [
  {
   "cell_type": "code",
   "execution_count": 1,
   "metadata": {},
   "outputs": [],
   "source": [
    "import numpy as np\n",
    "import cv2"
   ]
  },
  {
   "cell_type": "code",
   "execution_count": 3,
   "metadata": {},
   "outputs": [],
   "source": [
    "video_capture_0 = cv2.VideoCapture(0)\n",
    "video_capture_1 = cv2.VideoCapture(1)\n",
    "\n",
    "while True:\n",
    "    # Capture frame-by-frame\n",
    "    ret0, frame0 = video_capture_0.read()\n",
    "    ret1, frame1 = video_capture_1.read()\n",
    "\n",
    "    if (ret0):\n",
    "        # Display the resulting frame\n",
    "        cv2.imshow('Cam 0', frame0)\n",
    "\n",
    "    if (ret1):\n",
    "        # Display the resulting frame\n",
    "        cv2.imshow('Cam 1', frame1)\n",
    "\n",
    "    if cv2.waitKey(1) & 0xFF == ord('q'):\n",
    "        break\n",
    "\n",
    "# When everything is done, release the capture\n",
    "video_capture_0.release()\n",
    "video_capture_1.release()\n",
    "cv2.destroyAllWindows()"
   ]
  }
 ],
 "metadata": {
  "kernelspec": {
   "display_name": "Python 3",
   "language": "python",
   "name": "python3"
  },
  "language_info": {
   "codemirror_mode": {
    "name": "ipython",
    "version": 3
   },
   "file_extension": ".py",
   "mimetype": "text/x-python",
   "name": "python",
   "nbconvert_exporter": "python",
   "pygments_lexer": "ipython3",
   "version": "3.8.3"
  }
 },
 "nbformat": 4,
 "nbformat_minor": 4
}
